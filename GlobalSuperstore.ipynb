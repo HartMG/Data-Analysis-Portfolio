{
  "nbformat": 4,
  "nbformat_minor": 0,
  "metadata": {
    "colab": {
      "provenance": []
    },
    "kernelspec": {
      "name": "python3",
      "display_name": "Python 3"
    },
    "language_info": {
      "name": "python"
    }
  },
  "cells": [
    {
      "cell_type": "markdown",
      "source": [
        "## Converting CSV to DB for use with SQLite"
      ],
      "metadata": {
        "id": "V3IT7df-4xuu"
      }
    },
    {
      "cell_type": "code",
      "source": [
        "import pandas as pd\n",
        "import sqlite3\n",
        "\n",
        "df = pd.read_csv(\"superstore-MH.csv\")\n",
        "conn = sqlite3.connect(\"superstore.db\")\n",
        "df.to_sql(\"superstore\", conn, if_exists=\"replace\", index=False)\n",
        "conn.close()\n"
      ],
      "metadata": {
        "id": "QZbTFLnY4wuZ"
      },
      "execution_count": null,
      "outputs": []
    }
  ]
}